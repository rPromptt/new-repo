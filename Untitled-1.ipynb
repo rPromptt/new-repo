{
 "cells": [
  {
   "cell_type": "code",
   "execution_count": null,
   "metadata": {},
   "outputs": [
    {
     "ename": "",
     "evalue": "",
     "output_type": "error",
     "traceback": [
      "\u001b[1;31mRunning cells with 'Python 3.12.3' requires the ipykernel package.\n",
      "\u001b[1;31mRun the following command to install 'ipykernel' into the Python environment. \n",
      "\u001b[1;31mCommand: '/bin/python -m pip install ipykernel -U --user --force-reinstall'"
     ]
    }
   ],
   "source": [
    "import snowflake.connector\n",
    " \n",
    "# Set config\n",
    "conn_params = {'account':\"paccar\",\n",
    "                        'user':\"kingsley.nwosu@paccar\",\n",
    "                        'role':\"DAF_53000_CONNECT_R\",\n",
    "                        'warehouse':\"DAF_EHV_53_000_MEDIUM_WH\",\n",
    "                        'database':\"DAF_DB\",\n",
    "                        'schema':\"DAF_CONNECT\",\n",
    "                        'authenticator': 'externalbrowser',\n",
    "                        'paramstyle':\"pyformat\"}\n",
    "# Set connection\n",
    "conn = snowflake.connector.connect(**conn_params)\n",
    "# Set Cursor\n",
    "cur = conn.cursor()\n"
   ]
  },
  {
   "cell_type": "code",
   "execution_count": null,
   "metadata": {},
   "outputs": [],
   "source": [
    "# Set query\n",
    "query = \"select * from DAF_DB.PD_SP2019.CONCESSIONS\"\n",
    "# Run Query\n",
    "cur.execute(query)\n",
    "# Fetch the results\n",
    "for row in cur:\n",
    "    print(row)"
   ]
  }
 ],
 "metadata": {
  "kernelspec": {
   "display_name": "Python 3",
   "language": "python",
   "name": "python3"
  },
  "language_info": {
   "codemirror_mode": {
    "name": "ipython",
    "version": 3
   },
   "file_extension": ".py",
   "mimetype": "text/x-python",
   "name": "python",
   "nbconvert_exporter": "python",
   "pygments_lexer": "ipython3",
   "version": "3.12.3"
  }
 },
 "nbformat": 4,
 "nbformat_minor": 2
}
